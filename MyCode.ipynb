{
 "cells": [
  {
   "cell_type": "markdown",
   "id": "84ce0738",
   "metadata": {},
   "source": [
    "## Importing Libraries which we will use"
   ]
  },
  {
   "cell_type": "code",
   "execution_count": 1,
   "id": "621881e7",
   "metadata": {},
   "outputs": [],
   "source": [
    "import pandas as pd\n",
    "from pulp import *\n",
    "from num2words import *"
   ]
  },
  {
   "cell_type": "markdown",
   "id": "c17ca5f5",
   "metadata": {},
   "source": [
    "## Data-Preprocessing"
   ]
  },
  {
   "cell_type": "code",
   "execution_count": 2,
   "id": "a4c42fe5",
   "metadata": {},
   "outputs": [],
   "source": [
    "capacity0 = pd.read_excel('capacity.xlsx')\n",
    "countries = list(capacity0['Capacity (kUnits/month)'].unique())\n",
    "capacity0 = capacity0.set_index(\"Capacity (kUnits/month)\")\n",
    "emmision0 = pd.read_excel('CO2_Emissions.xlsx').set_index(\"CO2 Emissions (kgs)\")\n",
    "Leadtime0 = pd.read_excel('Delivery_LeadTime.xlsx').set_index(\"Unnamed: 0\")\n",
    "demand0  = pd.read_excel('demand.xlsx').set_index(\"(Units/month)\")\n",
    "fixedcost0 = pd.read_excel('fixed_cost.xlsx').set_index(\"Unnamed: 0\")\n",
    "freightcost0 = pd.read_excel('freight_costs.xlsx').set_index(\"Freight Costs ($/Container)\")\n",
    "storagecost0 = pd.read_excel('Storage_costs.xlsx').set_index(\"Country\")\n",
    "manufacture0 = pd.read_excel('manufacturing_cost.xlsx').set_index(\"Country\")\n",
    "maxemmision0 = pd.read_excel('max-emmision.xlsx').set_index(\"Country\")\n",
    "factor = pd.read_excel('factor.xlsx').set_index('factors')\n",
    "#\n",
    "size = ['High','Low']\n",
    "storagetypes = ['Port-Store','Factory-Store']"
   ]
  },
  {
   "cell_type": "code",
   "execution_count": 3,
   "id": "0399ec7d",
   "metadata": {},
   "outputs": [
    {
     "data": {
      "text/plain": [
       "{('USA', 'High'): 1000,\n",
       " ('USA', 'Low'): 500,\n",
       " ('Germany', 'High'): 1000,\n",
       " ('Germany', 'Low'): 500,\n",
       " ('Japan', 'High'): 1000,\n",
       " ('Japan', 'Low'): 500,\n",
       " ('Brazil', 'High'): 1000,\n",
       " ('Brazil', 'Low'): 500,\n",
       " ('India', 'High'): 1000,\n",
       " ('India', 'Low'): 500}"
      ]
     },
     "execution_count": 3,
     "metadata": {},
     "output_type": "execute_result"
    }
   ],
   "source": [
    "capacity = {}\n",
    "for i in countries:\n",
    "    for j in size:\n",
    "        capacity[i,j]=capacity0.loc[i][j]\n",
    "del capacity0\n",
    "capacity"
   ]
  },
  {
   "cell_type": "code",
   "execution_count": 4,
   "id": "3d66fae7",
   "metadata": {},
   "outputs": [
    {
     "data": {
      "text/plain": [
       "{('USA', 'USA'): 0.0,\n",
       " ('USA', 'Germany'): 84.06209480000001,\n",
       " ('USA', 'Japan'): 299.31716568,\n",
       " ('USA', 'Brazil'): 125.5220626,\n",
       " ('USA', 'India'): 181.06915104,\n",
       " ('Germany', 'USA'): 84.06209480000001,\n",
       " ('Germany', 'Germany'): 0.0,\n",
       " ('Germany', 'Japan'): 267.65434000000005,\n",
       " ('Germany', 'Brazil'): 140.79148464000002,\n",
       " ('Germany', 'India'): 149.30790664,\n",
       " ('Japan', 'USA'): 299.31716568,\n",
       " ('Japan', 'Germany'): 267.65434000000005,\n",
       " ('Japan', 'Japan'): 0.0,\n",
       " ('Japan', 'Brazil'): 282.62497856000005,\n",
       " ('Japan', 'India'): 127.72629135999999,\n",
       " ('Brazil', 'USA'): 125.5220626,\n",
       " ('Brazil', 'Germany'): 140.79148464000002,\n",
       " ('Brazil', 'Japan'): 282.62497856000005,\n",
       " ('Brazil', 'Brazil'): 0.0,\n",
       " ('Brazil', 'India'): 191.40908928000002,\n",
       " ('India', 'USA'): 181.06915104,\n",
       " ('India', 'Germany'): 149.30790664,\n",
       " ('India', 'Japan'): 127.72629135999999,\n",
       " ('India', 'Brazil'): 191.40908928000002,\n",
       " ('India', 'India'): 0.0}"
      ]
     },
     "execution_count": 4,
     "metadata": {},
     "output_type": "execute_result"
    }
   ],
   "source": [
    "emmision = {}\n",
    "for i in countries:\n",
    "    for j in countries:\n",
    "        emmision[i,j]=emmision0.loc[i][j]\n",
    "del emmision0\n",
    "emmision"
   ]
  },
  {
   "cell_type": "code",
   "execution_count": 5,
   "id": "fe3e0bb2",
   "metadata": {},
   "outputs": [
    {
     "data": {
      "text/plain": [
       "{('USA', 'USA'): 3,\n",
       " ('USA', 'Germany'): 21,\n",
       " ('USA', 'Japan'): 65,\n",
       " ('USA', 'Brazil'): 29,\n",
       " ('USA', 'India'): 41,\n",
       " ('Germany', 'USA'): 21,\n",
       " ('Germany', 'Germany'): 3,\n",
       " ('Germany', 'Japan'): 59,\n",
       " ('Germany', 'Brazil'): 33,\n",
       " ('Germany', 'India'): 34,\n",
       " ('Japan', 'USA'): 65,\n",
       " ('Japan', 'Germany'): 59,\n",
       " ('Japan', 'Japan'): 3,\n",
       " ('Japan', 'Brazil'): 62,\n",
       " ('Japan', 'India'): 30,\n",
       " ('Brazil', 'USA'): 29,\n",
       " ('Brazil', 'Germany'): 33,\n",
       " ('Brazil', 'Japan'): 62,\n",
       " ('Brazil', 'Brazil'): 3,\n",
       " ('Brazil', 'India'): 43,\n",
       " ('India', 'USA'): 41,\n",
       " ('India', 'Germany'): 34,\n",
       " ('India', 'Japan'): 30,\n",
       " ('India', 'Brazil'): 43,\n",
       " ('India', 'India'): 3}"
      ]
     },
     "execution_count": 5,
     "metadata": {},
     "output_type": "execute_result"
    }
   ],
   "source": [
    "leadtime = {}\n",
    "for i in countries:\n",
    "    for j in countries:\n",
    "        leadtime[i,j] = Leadtime0.loc[i][j]\n",
    "del Leadtime0\n",
    "leadtime"
   ]
  },
  {
   "cell_type": "code",
   "execution_count": 6,
   "id": "d34cadb8",
   "metadata": {},
   "outputs": [
    {
     "data": {
      "text/plain": [
       "{'USA': 2800000,\n",
       " 'Germany': 90000,\n",
       " 'Japan': 1700000,\n",
       " 'Brazil': 145000,\n",
       " 'India': 160000}"
      ]
     },
     "execution_count": 6,
     "metadata": {},
     "output_type": "execute_result"
    }
   ],
   "source": [
    "demand = {}\n",
    "for i in countries:\n",
    "    demand[i] = demand0.loc[i][\"Demand\"]\n",
    "del demand0\n",
    "demand"
   ]
  },
  {
   "cell_type": "code",
   "execution_count": 7,
   "id": "47b92007",
   "metadata": {},
   "outputs": [
    {
     "data": {
      "text/plain": [
       "{('USA', 'High'): 9500,\n",
       " ('USA', 'Low'): 6500,\n",
       " ('Germany', 'High'): 7270,\n",
       " ('Germany', 'Low'): 4980,\n",
       " ('Japan', 'High'): 9100,\n",
       " ('Japan', 'Low'): 6230,\n",
       " ('Brazil', 'High'): 4730,\n",
       " ('Brazil', 'Low'): 3230,\n",
       " ('India', 'High'): 3080,\n",
       " ('India', 'Low'): 2110}"
      ]
     },
     "execution_count": 7,
     "metadata": {},
     "output_type": "execute_result"
    }
   ],
   "source": [
    "fixedcost = {}\n",
    "for i in countries:\n",
    "    for j in size:\n",
    "        fixedcost[i,j]= fixedcost0.loc[i][j]\n",
    "del fixedcost0\n",
    "fixedcost"
   ]
  },
  {
   "cell_type": "code",
   "execution_count": 8,
   "id": "4c0f490d",
   "metadata": {},
   "outputs": [
    {
     "data": {
      "text/plain": [
       "{('USA', 'USA'): 0,\n",
       " ('USA', 'Germany'): 12250,\n",
       " ('USA', 'Japan'): 1100,\n",
       " ('USA', 'Brazil'): 16100,\n",
       " ('USA', 'India'): 8778,\n",
       " ('Germany', 'USA'): 13335,\n",
       " ('Germany', 'Germany'): 0,\n",
       " ('Germany', 'Japan'): 8617,\n",
       " ('Germany', 'Brazil'): 20244,\n",
       " ('Germany', 'India'): 10073,\n",
       " ('Japan', 'USA'): 15400,\n",
       " ('Japan', 'Germany'): 22750,\n",
       " ('Japan', 'Japan'): 0,\n",
       " ('Japan', 'Brazil'): 43610,\n",
       " ('Japan', 'India'): 14350,\n",
       " ('Brazil', 'USA'): 16450,\n",
       " ('Brazil', 'Germany'): 22050,\n",
       " ('Brazil', 'Japan'): 28000,\n",
       " ('Brazil', 'Brazil'): 0,\n",
       " ('Brazil', 'India'): 29750,\n",
       " ('India', 'USA'): 13650,\n",
       " ('India', 'Germany'): 15400,\n",
       " ('India', 'Japan'): 24500,\n",
       " ('India', 'Brazil'): 29400,\n",
       " ('India', 'India'): 0}"
      ]
     },
     "execution_count": 8,
     "metadata": {},
     "output_type": "execute_result"
    }
   ],
   "source": [
    "freightcost = {}\n",
    "for i in countries:\n",
    "    for j in countries:\n",
    "        freightcost[i,j] = freightcost0.loc[i][j]\n",
    "del freightcost0\n",
    "freightcost"
   ]
  },
  {
   "cell_type": "code",
   "execution_count": 9,
   "id": "f37fed60",
   "metadata": {},
   "outputs": [
    {
     "data": {
      "text/plain": [
       "{('USA', 'Port-Store'): 4.0,\n",
       " ('USA', 'Factory-Store'): 2.0,\n",
       " ('Germany', 'Port-Store'): 5.0,\n",
       " ('Germany', 'Factory-Store'): 3.0,\n",
       " ('Japan', 'Port-Store'): 3.0,\n",
       " ('Japan', 'Factory-Store'): 1.0,\n",
       " ('Brazil', 'Port-Store'): 5.0,\n",
       " ('Brazil', 'Factory-Store'): 2.0,\n",
       " ('India', 'Port-Store'): 4.0,\n",
       " ('India', 'Factory-Store'): 0.5}"
      ]
     },
     "execution_count": 9,
     "metadata": {},
     "output_type": "execute_result"
    }
   ],
   "source": [
    "storagecost = {}\n",
    "for i in countries:\n",
    "    for j in storagetypes:\n",
    "        storagecost[i,j] = storagecost0.loc[i][j]\n",
    "del storagecost0\n",
    "storagecost"
   ]
  },
  {
   "cell_type": "code",
   "execution_count": 10,
   "id": "f5dd56da",
   "metadata": {},
   "outputs": [
    {
     "data": {
      "text/plain": [
       "{'USA': 12, 'Germany': 13, 'Japan': 10, 'Brazil': 8, 'India': 5}"
      ]
     },
     "execution_count": 10,
     "metadata": {},
     "output_type": "execute_result"
    }
   ],
   "source": [
    "manufacture = {}\n",
    "for i in countries:\n",
    "    manufacture[i] = manufacture0.loc[i][\"Manufacturing cost\"]\n",
    "del manufacture0\n",
    "manufacture"
   ]
  },
  {
   "cell_type": "code",
   "execution_count": 11,
   "id": "125b4d4c",
   "metadata": {},
   "outputs": [],
   "source": [
    "maxemmision = {}\n",
    "for i in countries:\n",
    "    maxemmision[i]=maxemmision0.loc[i]['Emmision']\n",
    "del maxemmision0"
   ]
  },
  {
   "cell_type": "code",
   "execution_count": 12,
   "id": "979b6191",
   "metadata": {},
   "outputs": [],
   "source": [
    "factorsdict = {}\n",
    "factorsdict['storage_cost_factor'] = factor.loc['storage_cost_factor']['value']\n",
    "factorsdict['fixed_cost_factor'] = factor.loc['fixed_cost_factor']['value']\n",
    "factorsdict['manudfacturing_cost_factor'] = factor.loc['manudfacturing_cost_factor']['value']\n",
    "factorsdict['shipping_cost_factor'] = factor.loc['shipping_cost_factor']['value']\n",
    "factorsdict['delivery_leadtime_factor'] = factor.loc['delivery_leadtime_factor']['value']\n",
    "factorsdict['max_emmision_factor'] = factor.loc['max_emmision_factor']['value']\n",
    "factorsdict['delivery_deadtime'] = factor.loc['delivery_deadtime']['value']\n",
    "factorsdict['Further Evaluate'] = factor.loc['Further Evaluate']['value']\n",
    "#\n",
    "storage_cost_factor = int(factorsdict['storage_cost_factor'])\n",
    "fixed_cost_factor = int(factorsdict['fixed_cost_factor'])\n",
    "manudfacturing_cost_factor = int(factorsdict['manudfacturing_cost_factor'])\n",
    "shipping_cost_factor = int(factorsdict['shipping_cost_factor'])\n",
    "delivery_leadtime_factor = int(factorsdict['delivery_leadtime_factor'])\n",
    "max_emmision_factor = int(factorsdict['max_emmision_factor'])\n",
    "delivery_deadtime = int(factorsdict['delivery_deadtime'])\n",
    "further_evaluate = int(factorsdict['Further Evaluate'] )\n",
    "del factorsdict"
   ]
  },
  {
   "cell_type": "markdown",
   "id": "727127af",
   "metadata": {},
   "source": [
    "## Defining our Model"
   ]
  },
  {
   "cell_type": "code",
   "execution_count": 13,
   "id": "a490cace",
   "metadata": {},
   "outputs": [],
   "source": [
    "def variablecost(i,j,shipping_cost_factor,manudfacturing_cost_factor):\n",
    "    return freightcost[i,j]*shipping_cost_factor/10000 + manufacture[i]*manudfacturing_cost_factor"
   ]
  },
  {
   "cell_type": "code",
   "execution_count": 14,
   "id": "3c4cbff6",
   "metadata": {},
   "outputs": [],
   "source": [
    "def Costtostore (i,j,storage_cost_factor):\n",
    "      if i==j:\n",
    "            return storagecost[j,'Factory-Store']*storage_cost_factor\n",
    "      else:\n",
    "            return storagecost[j,'Port-Store']*storage_cost_factor"
   ]
  },
  {
   "cell_type": "code",
   "execution_count": 15,
   "id": "3797f2c2",
   "metadata": {},
   "outputs": [],
   "source": [
    "def fixedtocost(i,s,fixed_cost_factor):\n",
    "    return fixedcost[i,s]*y[i,s]*fixed_cost_factor"
   ]
  },
  {
   "cell_type": "code",
   "execution_count": 16,
   "id": "8c7e7f74",
   "metadata": {},
   "outputs": [],
   "source": [
    "z = LpProblem('Minimize-the-Cost',LpMinimize)\n",
    "x = LpVariable.dict('F2C',(countries,countries),lowBound=0,cat='Continous')\n",
    "y = LpVariable.dict('OpenOrNot',(countries,size),lowBound=0,cat='Integer')\n",
    "# Yet to add storage cost constaint , Total Cost is Fixed Cost + variable cost\n",
    "\n",
    "z += (lpSum(fixedtocost(i,s,fixed_cost_factor) for i in countries for s in size)\n",
    "      + lpSum(x[i,j]*variablecost(i,j,shipping_cost_factor,manudfacturing_cost_factor) for i in countries for j in countries)\n",
    "      + lpSum(x[i,j]*Costtostore(i,j,storage_cost_factor) for i in countries for j in countries))\n",
    "\n",
    "# The demand of all countries must be met\n",
    "for j in countries:\n",
    "      z += lpSum(x[i,j] for i in countries ) == demand[j]\n",
    "\n",
    "# A country cannot cater the demand more than its production\n",
    "for i in countries:\n",
    "      z += lpSum(x[i,j] for j in countries) <= lpSum(capacity[i,j]*y[i,j]*1000 for j in size)\n",
    "\n",
    "# Emmision Constraint can be changed with more better understanding\n",
    "for j in countries:\n",
    "      z += lpSum(x[i,j]*emmision[i,j] for i in countries) <= maxemmision[j]*max_emmision_factor\n",
    "\n",
    "# Constaint for delivery time\n",
    "for i in countries:\n",
    "      for j in countries:\n",
    "            z += leadtime[i,j]*x[i,j]*delivery_leadtime_factor <= delivery_deadtime*x[i,j]\n",
    "\n"
   ]
  },
  {
   "cell_type": "markdown",
   "id": "e33f0d6a",
   "metadata": {},
   "source": [
    "## Solution Status , Total Cost and its BreakDown"
   ]
  },
  {
   "cell_type": "code",
   "execution_count": 17,
   "id": "e143a30f",
   "metadata": {},
   "outputs": [
    {
     "name": "stdout",
     "output_type": "stream",
     "text": [
      "Solution is : Optimal\n",
      "The total cost is : 61366906.93175001\n",
      "Total Cost in Words : six crore, thirteen lakh, sixty-six thousand, nine hundred and six point nine three one seven five zero zero zero\n"
     ]
    }
   ],
   "source": [
    "status = z.solve()\n",
    "total_cost = value(z.objective)\n",
    "print(\"Solution is :\",LpStatus[status])\n",
    "print(\"The total cost is :\",total_cost)\n",
    "print(\"Total Cost in Words :\",(num2words(total_cost,lang='en_IN')))"
   ]
  },
  {
   "cell_type": "code",
   "execution_count": 18,
   "id": "749626b9",
   "metadata": {},
   "outputs": [
    {
     "name": "stdout",
     "output_type": "stream",
     "text": [
      "Fixed Cost : 53620.0\n",
      "Fixed Cost in Words : fifty-three thousand, six hundred and twenty\n"
     ]
    }
   ],
   "source": [
    "fixed_cost = value(lpSum(fixedtocost(i,s,fixed_cost_factor) for i in countries for s in size))\n",
    "print('Fixed Cost :',fixed_cost)\n",
    "print('Fixed Cost in Words :',(num2words(fixed_cost,lang='en_IN')))"
   ]
  },
  {
   "cell_type": "code",
   "execution_count": 19,
   "id": "c2a9b354",
   "metadata": {},
   "outputs": [
    {
     "name": "stdout",
     "output_type": "stream",
     "text": [
      "Manufacturing Cost : 50179344.6\n",
      "Manufacturing Cost in words : five crore, one lakh, seventy-nine thousand, three hundred and forty-four point six\n"
     ]
    }
   ],
   "source": [
    "manufacturing_cost = value(lpSum(x[i,j]*manufacture[i] for i in countries for j in countries))\n",
    "print('Manufacturing Cost :',manufacturing_cost)\n",
    "print('Manufacturing Cost in words :',(num2words(manufacturing_cost,lang='en_IN')))"
   ]
  },
  {
   "cell_type": "code",
   "execution_count": 20,
   "id": "5d6cd3c9",
   "metadata": {},
   "outputs": [
    {
     "name": "stdout",
     "output_type": "stream",
     "text": [
      "Shipping Cost : 1614345.39175\n",
      "Shipping Cost in words : sixteen lakh, fourteen thousand, three hundred and forty-five point three nine one seven five\n"
     ]
    }
   ],
   "source": [
    "shipping_cost = value(lpSum(x[i,j]*freightcost[i,j]/10000 for i in countries for j in countries))\n",
    "print('Shipping Cost :',shipping_cost)\n",
    "print('Shipping Cost in words :',(num2words(shipping_cost,lang='en_IN')))"
   ]
  },
  {
   "cell_type": "code",
   "execution_count": 21,
   "id": "2cf208fc",
   "metadata": {},
   "outputs": [
    {
     "name": "stdout",
     "output_type": "stream",
     "text": [
      "Storage Cost  9519596.940000001\n",
      "Sotrage Cost in words : ninety-five lakh, nineteen thousand, five hundred and ninety-six point nine four zero zero zero zero zero zero one\n"
     ]
    }
   ],
   "source": [
    "store_cost = value(lpSum(x[i,j]*Costtostore(i,j,storage_cost_factor) for i in countries for j in countries))\n",
    "print('Storage Cost ',store_cost)\n",
    "print('Sotrage Cost in words :',(num2words(store_cost,lang='en_IN')))\n"
   ]
  },
  {
   "cell_type": "markdown",
   "id": "b299ad35",
   "metadata": {},
   "source": [
    "## Which country serves how much to which country and which factories to open"
   ]
  },
  {
   "cell_type": "code",
   "execution_count": 23,
   "id": "8a6137c2",
   "metadata": {},
   "outputs": [],
   "source": [
    "# Storing the data in other variable for further manipulation\n",
    "c2c = {}\n",
    "for i in countries:\n",
    "    for j in countries:\n",
    "        c2c[i,j] = x[i,j].varValue\n",
    "fac = {}\n",
    "for i in countries:\n",
    "    for s in size:\n",
    "        fac[i,s] = y[i,s].varValue\n",
    "del x\n",
    "del y"
   ]
  },
  {
   "cell_type": "code",
   "execution_count": 24,
   "id": "cc387f2b",
   "metadata": {},
   "outputs": [
    {
     "name": "stderr",
     "output_type": "stream",
     "text": [
      "C:\\Users\\ADMIN\\AppData\\Local\\Temp\\ipykernel_13988\\1126569517.py:5: SettingWithCopyWarning: \n",
      "A value is trying to be set on a copy of a slice from a DataFrame\n",
      "\n",
      "See the caveats in the documentation: https://pandas.pydata.org/pandas-docs/stable/user_guide/indexing.html#returning-a-view-versus-a-copy\n",
      "  output1[i][j] = c2c[i,j]\n"
     ]
    }
   ],
   "source": [
    "# Storing the output in dataframe\n",
    "output1 = pd.read_excel('Output1.xlsx').set_index('Country')\n",
    "for i in countries:\n",
    "    for j in countries:\n",
    "        output1[i][j] = c2c[i,j]\n",
    "output2 = pd.read_excel('Output2.xlsx').set_index('Country')\n",
    "for i in countries:\n",
    "    for s in size:\n",
    "        output2.loc[i][s] = fac[i,s]\n",
    "output1.to_excel('Output1.xlsx')\n",
    "output2.to_excel('Output2.xlsx')\n"
   ]
  },
  {
   "cell_type": "code",
   "execution_count": 25,
   "id": "c299b8da",
   "metadata": {},
   "outputs": [
    {
     "data": {
      "text/plain": [
       "<AxesSubplot: title={'center': 'Demands are fullfilled by'}, xlabel='Country'>"
      ]
     },
     "execution_count": 25,
     "metadata": {},
     "output_type": "execute_result"
    },
    {
     "data": {
      "image/png": "[encoded data removed]",
      "text/plain": [
       "<Figure size 640x480 with 1 Axes>"
      ]
     },
     "metadata": {},
     "output_type": "display_data"
    }
   ],
   "source": [
    "output1.plot(kind='bar',title='Demands are fullfilled by')"
   ]
  },
  {
   "cell_type": "code",
   "execution_count": 26,
   "id": "b5614243",
   "metadata": {},
   "outputs": [
    {
     "data": {
      "text/plain": [
       "<AxesSubplot: xlabel='Country'>"
      ]
     },
     "execution_count": 26,
     "metadata": {},
     "output_type": "execute_result"
    },
    {
     "data": {
      "image/png": "[encoded data removed]",
      "text/plain": [
       "<Figure size 640x480 with 1 Axes>"
      ]
     },
     "metadata": {},
     "output_type": "display_data"
    }
   ],
   "source": [
    "output2.plot(kind='bar')"
   ]
  },
  {
   "cell_type": "markdown",
   "id": "2fce7a87",
   "metadata": {},
   "source": [
    "## CO2 Emmision Data for Shipping"
   ]
  },
  {
   "cell_type": "code",
   "execution_count": 28,
   "id": "649ab7e0",
   "metadata": {},
   "outputs": [
    {
     "name": "stdout",
     "output_type": "stream",
     "text": [
      "USA = 50000000.260555506\n",
      "Germany = 0.0\n",
      "Japan = 49999999.686471626\n",
      "Brazil = 0.0\n",
      "India = 0.0\n"
     ]
    }
   ],
   "source": [
    "for j in countries:\n",
    "    print(j,\"=\",lpSum(c2c[i,j]*emmision[i,j] for i in countries))"
   ]
  },
  {
   "cell_type": "markdown",
   "id": "d37f225a",
   "metadata": {},
   "source": [
    "## Now the decision variables is fixed , so we can do further analysis"
   ]
  },
  {
   "cell_type": "code",
   "execution_count": null,
   "id": "efa5ada1",
   "metadata": {},
   "outputs": [],
   "source": [
    "if (further_evaluate==1):\n",
    "    storage_cost_factor = int(input(\"Storage Cost Factor :\") or storage_cost_factor)\n",
    "    fixed_cost_factor = int(input(\"Fixed Cost Factor :\") or fixed_cost_factor)\n",
    "    manudfacturing_cost_factor = int(input(\"Manufacturing cost factor :\") or manudfacturing_cost_factor)\n",
    "    shipping_cost_factor = int(input(\"Shipping Cost Factor :\") or shipping_cost_factor)\n",
    "    delivery_leadtime_factor = int(input(\"Delivery leadtime factor :\") or delivery_leadtime_factor)"
   ]
  },
  {
   "cell_type": "code",
   "execution_count": null,
   "id": "09782805",
   "metadata": {},
   "outputs": [],
   "source": [
    "Cost = (lpSum(fixedcost[i,s]*fac[i,s] for i in countries for s in size) \n",
    "      + lpSum(c2c[i,j]*variablecost(i,j,shipping_cost_factor,manudfacturing_cost_factor) for i in countries for j in countries)\n",
    "      + lpSum(c2c[i,j]*Costtostore(i,j,storage_cost_factor) for i in countries for j in countries))\n",
    "print(\"Total Cost is :\",Cost)\n",
    "print('Words :',num2words(value(Cost),lang='en_IN'))"
   ]
  }
 ],
 "metadata": {
  "kernelspec": {
   "display_name": "Python 3.11.0 64-bit",
   "language": "python",
   "name": "python3"
  },
  "language_info": {
   "codemirror_mode": {
    "name": "ipython",
    "version": 3
   },
   "file_extension": ".py",
   "mimetype": "text/x-python",
   "name": "python",
   "nbconvert_exporter": "python",
   "pygments_lexer": "ipython3",
   "version": "3.11.0"
  },
  "vscode": {
   "interpreter": {
    "hash": "5f80c455da1dc101d9f66a16923589bd6dbb3429340af280f1efed2f72025e97"
   }
  }
 },
 "nbformat": 4,
 "nbformat_minor": 5
}
